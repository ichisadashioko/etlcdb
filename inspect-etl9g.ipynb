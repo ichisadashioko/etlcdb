{
	"cells": [
		{
			"cell_type": "code",
			"execution_count": 2,
			"metadata": {},
			"outputs": [],
			"source": [
				"import os\n",
				"import time\n",
				"import math\n",
				"import re\n",
				"import struct\n",
				"import traceback\n",
				"import codecs\n",
				"import posixpath\n",
				"\n",
				"import bitstring\n",
				"\n",
				"import numpy as np\n",
				"import matplotlib.pyplot as plt\n",
				"import pandas as pd\n",
				"import cv2\n",
				"\n",
				"from PIL import Image\n",
				"import IPython.display as display\n",
				"\n",
				"from JIS0208 import JIS0208"
			]
		},
		{
			"cell_type": "code",
			"execution_count": 3,
			"metadata": {},
			"outputs": [
				{
					"ename": "Exception",
					"evalue": "('ETL9G/ETL9G_01', 'does not exist!')",
					"output_type": "error",
					"traceback": [
						"\u001b[1;31m---------------------------------------------------------------------------\u001b[0m",
						"\u001b[1;31mException\u001b[0m                                 Traceback (most recent call last)",
						"\u001b[1;32m<ipython-input-3-4f2c31ca1063>\u001b[0m in \u001b[0;36m<module>\u001b[1;34m\u001b[0m\n\u001b[0;32m     55\u001b[0m \u001b[1;32mfor\u001b[0m \u001b[0mpart_filepath\u001b[0m \u001b[1;32min\u001b[0m \u001b[0mpart_filepaths\u001b[0m\u001b[1;33m:\u001b[0m\u001b[1;33m\u001b[0m\u001b[1;33m\u001b[0m\u001b[0m\n\u001b[0;32m     56\u001b[0m     \u001b[1;32mif\u001b[0m \u001b[1;32mnot\u001b[0m \u001b[0mos\u001b[0m\u001b[1;33m.\u001b[0m\u001b[0mpath\u001b[0m\u001b[1;33m.\u001b[0m\u001b[0mexists\u001b[0m\u001b[1;33m(\u001b[0m\u001b[0mpart_filepath\u001b[0m\u001b[1;33m)\u001b[0m\u001b[1;33m:\u001b[0m\u001b[1;33m\u001b[0m\u001b[1;33m\u001b[0m\u001b[0m\n\u001b[1;32m---> 57\u001b[1;33m         \u001b[1;32mraise\u001b[0m \u001b[0mException\u001b[0m\u001b[1;33m(\u001b[0m\u001b[0mpart_filepath\u001b[0m\u001b[1;33m,\u001b[0m \u001b[1;34m'does not exist!'\u001b[0m\u001b[1;33m)\u001b[0m\u001b[1;33m\u001b[0m\u001b[1;33m\u001b[0m\u001b[0m\n\u001b[0m",
						"\u001b[1;31mException\u001b[0m: ('ETL9G/ETL9G_01', 'does not exist!')"
					]
				}
			],
			"source": [
				"part_filepaths = [\n",
				"    'ETL9G/ETL9G_01',\n",
				"    'ETL9G/ETL9G_02',\n",
				"    'ETL9G/ETL9G_03',\n",
				"    'ETL9G/ETL9G_04',\n",
				"    'ETL9G/ETL9G_05',\n",
				"    'ETL9G/ETL9G_06',\n",
				"    'ETL9G/ETL9G_07',\n",
				"    'ETL9G/ETL9G_08',\n",
				"    'ETL9G/ETL9G_09',\n",
				"    'ETL9G/ETL9G_10',\n",
				"    'ETL9G/ETL9G_11',\n",
				"    'ETL9G/ETL9G_12',\n",
				"    'ETL9G/ETL9G_13',\n",
				"    'ETL9G/ETL9G_14',\n",
				"    'ETL9G/ETL9G_15',\n",
				"    'ETL9G/ETL9G_16',\n",
				"    'ETL9G/ETL9G_17',\n",
				"    'ETL9G/ETL9G_18',\n",
				"    'ETL9G/ETL9G_19',\n",
				"    'ETL9G/ETL9G_20',\n",
				"    'ETL9G/ETL9G_21',\n",
				"    'ETL9G/ETL9G_22',\n",
				"    'ETL9G/ETL9G_23',\n",
				"    'ETL9G/ETL9G_24',\n",
				"    'ETL9G/ETL9G_25',\n",
				"    'ETL9G/ETL9G_26',\n",
				"    'ETL9G/ETL9G_27',\n",
				"    'ETL9G/ETL9G_28',\n",
				"    'ETL9G/ETL9G_29',\n",
				"    'ETL9G/ETL9G_30',\n",
				"    'ETL9G/ETL9G_31',\n",
				"    'ETL9G/ETL9G_32',\n",
				"    'ETL9G/ETL9G_33',\n",
				"    'ETL9G/ETL9G_34',\n",
				"    'ETL9G/ETL9G_35',\n",
				"    'ETL9G/ETL9G_36',\n",
				"    'ETL9G/ETL9G_37',\n",
				"    'ETL9G/ETL9G_38',\n",
				"    'ETL9G/ETL9G_39',\n",
				"    'ETL9G/ETL9G_40',\n",
				"    'ETL9G/ETL9G_41',\n",
				"    'ETL9G/ETL9G_42',\n",
				"    'ETL9G/ETL9G_43',\n",
				"    'ETL9G/ETL9G_44',\n",
				"    'ETL9G/ETL9G_45',\n",
				"    'ETL9G/ETL9G_46',\n",
				"    'ETL9G/ETL9G_47',\n",
				"    'ETL9G/ETL9G_48',\n",
				"    'ETL9G/ETL9G_49',\n",
				"    'ETL9G/ETL9G_50',\n",
				"]\n",
				"\n",
				"# the code below is for Restart and Run All people (include me)\n",
				"for part_filepath in part_filepaths:\n",
				"    if not os.path.exists(part_filepath):\n",
				"        raise Exception(part_filepath, 'does not exist!')"
			]
		},
		{
			"cell_type": "code",
			"execution_count": null,
			"metadata": {},
			"outputs": [],
			"source": [
				"filename = file_list[0]\n",
				"print(filename)\n",
				"file_stream = bitstring.ConstBitStream(filename=filename)"
			]
		},
		{
			"cell_type": "code",
			"execution_count": null,
			"metadata": {},
			"outputs": [],
			"source": [
				"record = file_stream.readlist(','.join([\n",
				"    'int:16', # Serial Sheet Number - [0]\n",
				"    'uint:16', # JIS Character Code (JIS X 0208) - [1]\n",
				"    '8*uint:8', # JIS Typical Reading (e.g. 'AI.MEDER') - [2:10]\n",
				"    'int:32', # Serial Data Number - [10]\n",
				"    '4*int:8', # - [11:15]\n",
				"    '4*uint:16', # - [15:19]\n",
				"    '2*int:8', # x and y - [19:21]\n",
				"    'pad:272',\n",
				"    'bytes:8128', # 16-graylevel (4-bit) image of 128 x 127 = 16256 pixels\n",
				"    'pad:56',\n",
				"]))\n",
				"\n",
				"record_dict = {\n",
				"    'JIS_CODE': record[1],\n",
				"    'image_data': record[-1]\n",
				"}\n",
				"\n",
				"print(hex(record_dict['JIS_CODE']))\n",
				"\n",
				"width = 128\n",
				"height = 127\n",
				"img = np.array(Image.frombytes('F', (width, height), record_dict['image_data'], 'bit', 4))\n",
				"plt.imshow(img)\n",
				"plt.colorbar()"
			]
		},
		{
			"cell_type": "code",
			"execution_count": null,
			"metadata": {},
			"outputs": [],
			"source": [
				"print(type(record), len(record))\n",
				"for idx, v in enumerate(record[:-1]):\n",
				"    print(f'{idx} - {v}')"
			]
		},
		{
			"cell_type": "code",
			"execution_count": null,
			"metadata": {},
			"outputs": [],
			"source": [
				"total_samples = 0\n",
				"record_count = {}\n",
				"\n",
				"for filename in file_list:\n",
				"    file_stream = bitstring.ConstBitStream(filename=filename)\n",
				"\n",
				"    while True:\n",
				"        try:\n",
				"            record = file_stream.readlist(','.join([\n",
				"                'int:16', # Serial Sheet Number - [0]\n",
				"                'uint:16', # JIS Character Code (JIS X 0208) - [1]\n",
				"                '8*uint:8', # JIS Typical Reading (e.g. 'AI.MEDER') - [2:10]\n",
				"                'int:32', # Serial Data Number - [10]\n",
				"                '4*int:8', # - [11:15]\n",
				"                '4*uint:16', # - [15:19]\n",
				"                '2*int:8', # x and y - [19:21]\n",
				"                'pad:272',\n",
				"                'bytes:8128', # 16-graylevel (4-bit) image of 128 x 127 = 16256 pixels\n",
				"                'pad:56',\n",
				"            ]))\n",
				"        except:\n",
				"            break\n",
				"        \n",
				"        total_samples += 1\n",
				"        record_dict = {\n",
				"            'JIS_CODE': record[1],\n",
				"            'image_data': record[-1],\n",
				"        }\n",
				"        \n",
				"        jis_code = record_dict['JIS_CODE']\n",
				"        \n",
				"        if jis_code in JIS0208.keys():\n",
				"            unicode_char = JIS0208[jis_code]\n",
				"        else:\n",
				"            unicode_char = 'JIS_CODE=' + repr(jis_code)\n",
				"\n",
				"        if unicode_char in record_count.keys():\n",
				"            record_count[unicode_char] += 1\n",
				"        else:\n",
				"            record_count[unicode_char] = 1"
			]
		},
		{
			"cell_type": "code",
			"execution_count": null,
			"metadata": {},
			"outputs": [],
			"source": [
				"total_samples"
			]
		},
		{
			"cell_type": "code",
			"execution_count": null,
			"metadata": {},
			"outputs": [],
			"source": [
				"len(record_count.keys())"
			]
		},
		{
			"cell_type": "code",
			"execution_count": null,
			"metadata": {
				"scrolled": true
			},
			"outputs": [],
			"source": [
				"record_count"
			]
		},
		{
			"cell_type": "code",
			"execution_count": null,
			"metadata": {},
			"outputs": [],
			"source": [
				"csv_filename = 'classes.tsv'\n",
				"with open(csv_filename, mode='w', encoding='utf-8') as f:\n",
				"    f.write('class\\tnum_samples\\n')\n",
				"    for k in record_count.keys():\n",
				"        log_str = f'{k}\\t{record_count[k]}\\n'\n",
				"        f.write(log_str)\n",
				"# sort classes\n",
				"pd_df = pd.read_csv(csv_filename, encoding='utf-8', sep='\\t')\n",
				"pd_df = pd_df.sort_values(['class'])\n",
				"pd_df.to_csv(csv_filename, encoding='utf-8', index=False, sep='\\t')"
			]
		},
		{
			"cell_type": "markdown",
			"metadata": {},
			"source": [
				"## Extract to images"
			]
		},
		{
			"cell_type": "code",
			"execution_count": null,
			"metadata": {},
			"outputs": [],
			"source": [
				"from tqdm import tqdm"
			]
		},
		{
			"cell_type": "code",
			"execution_count": null,
			"metadata": {},
			"outputs": [],
			"source": [
				"filename"
			]
		},
		{
			"cell_type": "code",
			"execution_count": null,
			"metadata": {},
			"outputs": [],
			"source": [
				"file_size = os.path.getsize(filename)\n",
				"file_size"
			]
		},
		{
			"cell_type": "code",
			"execution_count": null,
			"metadata": {},
			"outputs": [],
			"source": [
				"record_length = 8199 # bytes (8 bits per byte)"
			]
		},
		{
			"cell_type": "code",
			"execution_count": null,
			"metadata": {},
			"outputs": [],
			"source": [
				"file_size / record_length"
			]
		},
		{
			"cell_type": "code",
			"execution_count": null,
			"metadata": {
				"scrolled": false
			},
			"outputs": [],
			"source": [
				"total_samples = 0\n",
				"record_count = {}\n",
				"\n",
				"record_length = 8199 # bytes (8 bits per byte)\n",
				"\n",
				"start_time = time.time()\n",
				"\n",
				"for file_idx, filename in enumerate(file_list):\n",
				"    print(f'{file_idx+1}/{len(file_list)}: Loading {filename}...')\n",
				"    \n",
				"    file_size = os.path.getsize(filename)\n",
				"    num_samples = int(file_size / record_length)\n",
				"\n",
				"    file_stream = bitstring.ConstBitStream(filename=filename)\n",
				"\n",
				"    for _ in tqdm(range(num_samples)):\n",
				"        record = file_stream.readlist(','.join([\n",
				"            'int:16', # Serial Sheet Number - [0]\n",
				"            'uint:16', # JIS Character Code (JIS X 0208) - [1]\n",
				"            '8*uint:8', # JIS Typical Reading (e.g. 'AI.MEDER') - [2:10]\n",
				"            'int:32', # Serial Data Number - [10]\n",
				"            '4*int:8', # - [11:15]\n",
				"            '4*uint:16', # - [15:19]\n",
				"            '2*int:8', # x and y - [19:21]\n",
				"            'pad:272',\n",
				"            'bytes:8128', # 16-graylevel (4-bit) image of 128 x 127 = 16256 pixels\n",
				"            'pad:56',\n",
				"        ]))\n",
				"        \n",
				"        total_samples += 1\n",
				"        record_dict = {\n",
				"            'JIS_CODE': record[1],\n",
				"            'image_data': record[-1],\n",
				"        }\n",
				"        \n",
				"        jis_code = record_dict['JIS_CODE']\n",
				"        \n",
				"        if jis_code in JIS0208:\n",
				"            # get the unicode hex string\n",
				"            unicode_char = JIS0208[jis_code]\n",
				"        else:\n",
				"            unicode_char = jis_code\n",
				"\n",
				"        if unicode_char in record_count.keys():\n",
				"            record_count[unicode_char] += 1\n",
				"        else:\n",
				"            record_count[unicode_char] = 1\n",
				"            \n",
				"        save_dir = 'ETL9G_IMG'\n",
				"        img_filename = f'{unicode_char}_{str(record_count[unicode_char]).zfill(3)}.png'\n",
				"        img_dir = f'{save_dir}/{unicode_char}'\n",
				"        if not os.path.exists(img_dir):\n",
				"            os.makedirs(img_dir)\n",
				"        img_path = f'{img_dir}/{img_filename}'\n",
				"        \n",
				"        if os.path.exists(img_path):\n",
				"            continue\n",
				"\n",
				"        width = 128\n",
				"        height = 127\n",
				"        np_img = np.array(Image.frombytes('F', (width, height), record_dict['image_data'], 'bit', 4))\n",
				"        scaled_img = (np_img * 17).astype(np.uint8)\n",
				"        pil_img = Image.fromarray(scaled_img)\n",
				"        pil_img.save(img_path)\n",
				"    \n",
				"    total_time = time.time() - start_time\n",
				"    avg_time = total_time / (file_idx + 1)\n",
				"    remain_time = (len(file_list) - file_idx - 1) * avg_time\n",
				"    \n",
				"    print(f'total_time: {total_time:.2f}s, avg_time: {avg_time:.2f}s, remain_time: {remain_time:.2f}s')"
			]
		},
		{
			"cell_type": "code",
			"execution_count": null,
			"metadata": {},
			"outputs": [],
			"source": [
				"img_path"
			]
		},
		{
			"cell_type": "code",
			"execution_count": null,
			"metadata": {},
			"outputs": [],
			"source": [
				"np_img = np.array(Image.frombytes('F', (width, height), record_dict['image_data'], 'bit', 4))\n",
				"plt.imshow(np_img, cmap='gray')\n",
				"plt.colorbar()"
			]
		},
		{
			"cell_type": "code",
			"execution_count": null,
			"metadata": {},
			"outputs": [],
			"source": [
				"scaled_img = (np_img * 17).astype(np.uint8)\n",
				"plt.imshow(scaled_img, cmap='gray')\n",
				"plt.colorbar()"
			]
		},
		{
			"cell_type": "code",
			"execution_count": null,
			"metadata": {},
			"outputs": [],
			"source": [
				"pil_img = Image.fromarray(scaled_img)\n",
				"pil_img.save(img_path)\n",
				"img_path"
			]
		}
	],
	"metadata": {
		"kernelspec": {
			"display_name": "Python 3",
			"language": "python",
			"name": "python3"
		},
		"language_info": {
			"codemirror_mode": {
				"name": "ipython",
				"version": 3
			},
			"file_extension": ".py",
			"mimetype": "text/x-python",
			"name": "python",
			"nbconvert_exporter": "python",
			"pygments_lexer": "ipython3"
		}
	},
	"nbformat": 4,
	"nbformat_minor": 2
}
