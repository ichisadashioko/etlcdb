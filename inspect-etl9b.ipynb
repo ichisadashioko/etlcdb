{
	"cells": [
		{
			"cell_type": "code",
			"execution_count": null,
			"metadata": {},
			"outputs": [],
			"source": [
				"import os\n",
				"\n",
				"import bitstring\n",
				"\n",
				"import numpy as np\n",
				"import matplotlib.pyplot as plt\n",
				"import cv2\n",
				"\n",
				"from PIL import Image\n",
				"import IPython.display as display\n",
				"\n",
				"# local module\n",
				"from JIS0208 import JIS0208"
			]
		},
		{
			"cell_type": "code",
			"execution_count": null,
			"metadata": {},
			"outputs": [],
			"source": [
				"part_filepaths = [\n",
				"    'ETL9B/ETL9B_1',\n",
				"    'ETL9B/ETL9B_2',\n",
				"    'ETL9B/ETL9B_3',\n",
				"    'ETL9B/ETL9B_4',\n",
				"    'ETL9B/ETL9B_5',\n",
				"]\n",
				"\n",
				"# the code below is for Restart and Run All people (include me)\n",
				"for part_filepath in part_filepaths:\n",
				"    if not os.path.exists(part_filepath):\n",
				"        raise Exception(part_filepath, 'does not exist!')"
			]
		},
		{
			"cell_type": "code",
			"execution_count": null,
			"metadata": {},
			"outputs": [],
			"source": [
				"sample_filepath = part_filepaths[0]\n",
				"print(sample_filepath)"
			]
		},
		{
			"cell_type": "code",
			"execution_count": null,
			"metadata": {},
			"outputs": [],
			"source": [
				"# constants by specification\n",
				"IMG_WIDTH = 64\n",
				"IMG_HEIGHT = 63\n",
				"\n",
				"bitstring_unpack_str = ','.join([\n",
				"    'int:16', # Serial Sheet Number - [0]\n",
				"    'uint:16', # JIS Kanji Code (JIS X 0208) - [1]\n",
				"    '4*uint:8', # JIS Typical Reading (e.g. 'AI.M') - [2:6]\n",
				"    'bytes:504', # image data - [6]\n",
				"    'pad:512',\n",
				"])\n",
				"\n",
				"# I count this myself from the provided unpack string\n",
				"# RECORD_SIZE = 16 + 16 + 32 + 504 + 512 # in bit(s)"
			]
		},
		{
			"cell_type": "code",
			"execution_count": null,
			"metadata": {},
			"outputs": [],
			"source": [
				"infile = bitstring.ConstBitStream(filename=sample_filepath)"
			]
		},
		{
			"cell_type": "markdown",
			"metadata": {},
			"source": [
				"**The first record of each file is zero padded dummy.**"
			]
		},
		{
			"cell_type": "code",
			"execution_count": null,
			"metadata": {},
			"outputs": [],
			"source": [
				"unpacked_data = infile.readlist(bitstring_unpack_str)"
			]
		},
		{
			"cell_type": "code",
			"execution_count": null,
			"metadata": {},
			"outputs": [],
			"source": [
				"# type: int - Serial Sheet Number\n",
				"sheet_number = unpacked_data[0]\n",
				"\n",
				"# type: binary - JIS Kanji Code (JIS X 0208)\n",
				"jis_char_code = unpacked_data[1]\n",
				"\n",
				"if jis_char_code in JIS0208:\n",
				"    unicode_char = JIS0208[jis_char_code]\n",
				"else:\n",
				"    unicode_char = 'null_' + repr(jis_char_code)\n",
				"\n",
				"# type: ASCII - JIS Typical Reading (e.g. 'AI.M')\n",
				"jis_reading = unpacked_data[2:6]\n",
				"jis_reading = ''.join(list(map(chr, jis_reading)))\n",
				"\n",
				"# type: bytes\n",
				"raw_image_data = unpacked_data[6]\n",
				"\n",
				"print(type(sheet_number), 'sheet_number:', sheet_number)\n",
				"print(type(jis_char_code), 'jis_char_code:', jis_char_code)\n",
				"print('unicode_char:', unicode_char)\n",
				"print(type(jis_reading), 'jis_reading:', repr(jis_reading))\n",
				"\n",
				"np_img = np.array(\n",
				"    object=Image.frombytes('1', (IMG_WIDTH, IMG_HEIGHT), raw_image_data, 'raw'),\n",
				"    dtype=np.uint8,\n",
				")\n",
				"\n",
				"plt.imshow(np_img)\n",
				"plt.colorbar()"
			]
		},
		{
			"cell_type": "code",
			"execution_count": null,
			"metadata": {},
			"outputs": [],
			"source": [
				"for part_fpath in part_filepaths:\n",
				"\n",
				"    infile = bitstring.ConstBitStream(filename=part_fpath)\n",
				"    # skip the first record in each file\n",
				"    infile.readlist(bitstring_unpack_str)\n",
				"\n",
				"    while True:\n",
				"        try:\n",
				"            unpacked_data = infile.readlist(bitstring_unpack_str)\n",
				"        except:\n",
				"            break\n",
				"\n",
				"        # type: int - Serial Sheet Number\n",
				"        sheet_number = unpacked_data[0]\n",
				"\n",
				"        # type: binary - JIS Kanji Code (JIS X 0208)\n",
				"        jis_char_code = unpacked_data[1]\n",
				"\n",
				"        if jis_char_code in JIS0208:\n",
				"            unicode_char = JIS0208[jis_char_code]\n",
				"        else:\n",
				"            unicode_char = 'null_' + repr(jis_char_code)\n",
				"\n",
				"        # type: ASCII - JIS Typical Reading (e.g. 'AI.M')\n",
				"        jis_reading = unpacked_data[2:6]\n",
				"        jis_reading = ''.join(list(map(chr, jis_reading)))\n",
				"\n",
				"        # type: bytes\n",
				"        raw_image_data = unpacked_data[6]\n",
				"\n",
				"        np_img = np.array(\n",
				"            object=Image.frombytes('1', (IMG_WIDTH, IMG_HEIGHT), raw_image_data, 'raw'),\n",
				"            dtype=np.uint8,\n",
				"        )"
			]
		}
	],
	"metadata": {
		"kernelspec": {
			"display_name": "Python 3",
			"language": "python",
			"name": "python3"
		},
		"language_info": {
			"codemirror_mode": {
				"name": "ipython",
				"version": 3
			},
			"file_extension": ".py",
			"mimetype": "text/x-python",
			"name": "python",
			"nbconvert_exporter": "python",
			"pygments_lexer": "ipython3"
		}
	},
	"nbformat": 4,
	"nbformat_minor": 2
}
