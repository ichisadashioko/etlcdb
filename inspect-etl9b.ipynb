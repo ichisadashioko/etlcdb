{
 "cells": [
  {
   "cell_type": "code",
   "execution_count": null,
   "metadata": {},
   "outputs": [],
   "source": [
    "import os\n",
    "import time\n",
    "import math\n",
    "import re\n",
    "import struct\n",
    "import traceback\n",
    "import codecs\n",
    "\n",
    "import bitstring\n",
    "\n",
    "import numpy as np\n",
    "import matplotlib.pyplot as plt\n",
    "import cv2\n",
    "\n",
    "from PIL import Image\n",
    "import IPython.display as display\n",
    "\n",
    "# local module\n",
    "from JIS0208 import JIS0208"
   ]
  },
  {
   "cell_type": "code",
   "execution_count": null,
   "metadata": {},
   "outputs": [],
   "source": [
    "part_filepaths = [\n",
    "    'ETL9B/ETL9B_1',\n",
    "    'ETL9B/ETL9B_2',\n",
    "    'ETL9B/ETL9B_3',\n",
    "    'ETL9B/ETL9B_4',\n",
    "    'ETL9B/ETL9B_5',\n",
    "]\n",
    "\n",
    "# the code below is for Restart and Run All people (include me)\n",
    "for part_filepath in part_filepaths:\n",
    "    if not os.path.exists(part_filepath):\n",
    "        raise Exception(part_filepath, 'does not exist!')"
   ]
  },
  {
   "cell_type": "code",
   "execution_count": null,
   "metadata": {},
   "outputs": [],
   "source": [
    "sample_filepath = part_filepaths[0]\n",
    "print(sample_filepath)"
   ]
  },
  {
   "cell_type": "code",
   "execution_count": null,
   "metadata": {},
   "outputs": [],
   "source": [
    "# constants by specification\n",
    "IMG_WIDTH = 64\n",
    "IMG_HEIGHT = 63\n",
    "\n",
    "bitstring_unpack_str = ','.join([\n",
    "    'int:16', # Serial Sheet Number - [0]\n",
    "    'uint:16', # JIS Kanji Code (JIS X 0208) - [1]\n",
    "    'uint:32', # JIS Typical Reading (e.g. 'AI.M') - [2]\n",
    "    'bytes:504', # image data - [3]\n",
    "    'pad:512',\n",
    "])\n",
    "\n",
    "# I count this myself from the provided unpack string\n",
    "# RECORD_SIZE = 16 + 16 + 32 + 504 + 512 # in bit(s)"
   ]
  },
  {
   "cell_type": "code",
   "execution_count": null,
   "metadata": {},
   "outputs": [],
   "source": [
    "infile = bitstring.ConstBitStream(filename=sample_filepath)"
   ]
  },
  {
   "cell_type": "markdown",
   "metadata": {},
   "source": [
    "**The first record of each file is zero padded dummy.**"
   ]
  },
  {
   "cell_type": "code",
   "execution_count": null,
   "metadata": {},
   "outputs": [],
   "source": [
    "unpacked_data = infile.readlist(bitstring_unpack_str)\n",
    "\n",
    "sheet_number = unpacked_data[0]\n",
    "jis_char_code = unpacked_data[1]\n",
    "record_data = {\n",
    "    'sheet_number': record[0], # type: int - Serial Sheet Number\n",
    "    'JIS_KANJI_CODE': record[1], # type: binary - JIS Kanji Code (JIS X 0208)\n",
    "    'JIS_READING': record[2], # type: ASCII - JIS Typical Reading (e.g. 'AI.M')\n",
    "    'image_data': record[3], # type: bytes\n",
    "}\n",
    "\n",
    "width = 64\n",
    "height = 63\n",
    "\n",
    "np_img = np.array(Image.frombytes('1', (width, height), record_dict['image_data'], 'raw')).astype(int)\n",
    "plt.imshow(np_img)\n",
    "plt.colorbar()"
   ]
  },
  {
   "cell_type": "code",
   "execution_count": null,
   "metadata": {},
   "outputs": [],
   "source": [
    "record = file_stream.readlist('int:16,uint:16,uint:32,bytes:504,pad:512')\n",
    "record_dict = {\n",
    "    'sheet_number': record[0], # type: int - Serial Sheet Number\n",
    "    'JIS_KANJI_CODE': record[1], # type: binary - JIS Kanji Code (JIS X 0208)\n",
    "    'JIS_READING': record[2], # type: ASCII - JIS Typical Reading (e.g. 'AI.M')\n",
    "    'image_data': record[3], # type: bytes\n",
    "}\n",
    "\n",
    "width = 64\n",
    "height = 63\n",
    "\n",
    "np_img = np.array(Image.frombytes('1', (width, height), record_dict['image_data'], 'raw')).astype(int)\n",
    "plt.imshow(np_img)\n",
    "plt.colorbar()"
   ]
  },
  {
   "cell_type": "code",
   "execution_count": null,
   "metadata": {},
   "outputs": [],
   "source": [
    "total_samples = 0\n",
    "record_count = {}\n",
    "\n",
    "for record_filepath in part_filepaths:\n",
    "\n",
    "    file_stream = bitstring.ConstBitStream(filename=record_filepath)\n",
    "    # skip the first record in each file\n",
    "    file_stream.readlist('bytes:576')\n",
    "\n",
    "    while True:\n",
    "        try:\n",
    "            record = file_stream.readlist('int:16,int:16,uint:32,bytes:504,pad:512')\n",
    "        except:\n",
    "            break\n",
    "        \n",
    "        total_samples += 1\n",
    "        record_dict = {\n",
    "            'sheet_number': record[0], # type: int - Serial Sheet Number\n",
    "            'JIS_KANJI_CODE': record[1], # type: binary - JIS Kanji Code (JIS X 0208)\n",
    "            'JIS_READING': record[2], # type: ASCII - JIS Typical Reading (e.g. 'AI.M')\n",
    "            'image_data': record[3], # type: bytes\n",
    "        }\n",
    "        \n",
    "        name = hex(record_dict['JIS_KANJI_CODE'])\n",
    "        if name in record_count.keys():\n",
    "            record_count[name] += 1\n",
    "        else:\n",
    "            record_count[name] = 1"
   ]
  },
  {
   "cell_type": "code",
   "execution_count": null,
   "metadata": {},
   "outputs": [],
   "source": [
    "total_samples"
   ]
  },
  {
   "cell_type": "code",
   "execution_count": null,
   "metadata": {},
   "outputs": [],
   "source": [
    "len(record_count.keys())"
   ]
  },
  {
   "cell_type": "code",
   "execution_count": null,
   "metadata": {},
   "outputs": [],
   "source": [
    "record_count"
   ]
  }
 ],
 "metadata": {
  "kernelspec": {
   "display_name": "Python 3",
   "language": "python",
   "name": "python3"
  },
  "language_info": {
   "codemirror_mode": {
    "name": "ipython",
    "version": 3
   },
   "file_extension": ".py",
   "mimetype": "text/x-python",
   "name": "python",
   "nbconvert_exporter": "python",
   "pygments_lexer": "ipython3",
   "version": "3.6.9"
  }
 },
 "nbformat": 4,
 "nbformat_minor": 2
}
