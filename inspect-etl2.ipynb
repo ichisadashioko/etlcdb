{
 "cells": [
  {
   "cell_type": "markdown",
   "metadata": {},
   "source": [
    "# Inspect the `ETL2` dataset\n",
    "\n",
    "## Prerequisite\n",
    "\n",
    "Get and unzip the `ETL2` dataset as show below.\n",
    "\n",
    "```\n",
    "ETL2\n",
    "├── ETL2INFO\n",
    "├── ETL2_1\n",
    "├── ETL2_2\n",
    "├── ETL2_3\n",
    "├── ETL2_4\n",
    "└── ETL2_5\n",
    "```"
   ]
  },
  {
   "cell_type": "code",
   "execution_count": 1,
   "metadata": {},
   "outputs": [],
   "source": [
    "import os\n",
    "import io\n",
    "import json\n",
    "\n",
    "# external dependencies\n",
    "import bitstring\n",
    "\n",
    "from tqdm import tqdm\n",
    "import numpy as np\n",
    "import matplotlib.pyplot as plt\n",
    "import cv2\n",
    "\n",
    "from PIL import Image\n",
    "import IPython.display as display\n",
    "\n",
    "# local modules\n",
    "import shared"
   ]
  },
  {
   "cell_type": "code",
   "execution_count": 3,
   "metadata": {},
   "outputs": [],
   "source": [
    "part_filepaths = [    \n",
    "    'ETL2/ETL2_1',\n",
    "    'ETL2/ETL2_2',\n",
    "    'ETL2/ETL2_3',\n",
    "    'ETL2/ETL2_4',\n",
    "    'ETL2/ETL2_5',\n",
    "]\n",
    "\n",
    "# the code below is for Restart and Run All people (include me)\n",
    "for part_filepath in part_filepaths:\n",
    "    if not os.path.exists(part_filepath):\n",
    "        raise Exception(part_filepath, 'does not exist!')"
   ]
  },
  {
   "cell_type": "markdown",
   "metadata": {},
   "source": [
    "# Take a look a sample file"
   ]
  },
  {
   "cell_type": "code",
   "execution_count": 4,
   "metadata": {},
   "outputs": [
    {
     "data": {
      "text/plain": [
       "'ETL2/ETL2_1'"
      ]
     },
     "execution_count": 4,
     "metadata": {},
     "output_type": "execute_result"
    }
   ],
   "source": [
    "sample_filepath = part_filepaths[0]\n",
    "print(sample_filepath)"
   ]
  },
  {
   "cell_type": "markdown",
   "metadata": {},
   "source": [
    "Unpack the record as shown in the specification.\n",
    "\n",
    "http://etlcdb.db.aist.go.jp/specification-of-etl-2"
   ]
  },
  {
   "cell_type": "code",
   "execution_count": 8,
   "metadata": {},
   "outputs": [],
   "source": [
    "IMG_WIDTH = 60\n",
    "IMG_HEIGHT = 60\n",
    "\n",
    "bitstring_unpack_str = ','.join([\n",
    "    'int:36', # Serial Index - [0]\n",
    "    'uint:6', # Source ('A': Mincho Newspaper, 'B': Gothic Newspaper, 'C': Mincho Patent, 'D': Gothic Patent) - [1]\n",
    "    'pad:30', # padding bits - no index as they are skipped\n",
    "    '6*uint:6', # Class ('KANJI': kanji, 'EIJI': roman alphabets, 'HRKANA': hiragana, 'KTKANA': katakana, 'KIGO': special characters, 'SUUJI': numbers) - [2:8]\n",
    "    '6*uint:6', # Font ('MINCHO', 'GOTHIC') - [8:14]\n",
    "    'pad:24', # padding bits\n",
    "    '2*uint:6', # CO-59 Code - [14:16]\n",
    "    'pad:180', # padding bits\n",
    "    'bytes:2700', # 6-bit-depth image of 60 x 60 = 3600 pixels - [16]\n",
    "])"
   ]
  },
  {
   "cell_type": "code",
   "execution_count": null,
   "metadata": {},
   "outputs": [],
   "source": [
    "infile = bitstring.ConstBitStream(filename=sample_filepath)\n",
    "unpacked_data = infile.readlist(bitstring_unpack_str)\n",
    "\n",
    "print(type(unpacked_data), len(unpacked_data))\n",
    "print(unpacked_data[:-1])"
   ]
  },
  {
   "cell_type": "code",
   "execution_count": 10,
   "metadata": {},
   "outputs": [
    {
     "name": "stdout",
     "output_type": "stream",
     "text": [
      "1 A KANJI  MINCHO 上\n"
     ]
    }
   ],
   "source": [
    "print(\n",
    "    unpacked_data[0],\n",
    "    shared.T56(unpacked_data[1]),\n",
    "    ''.join(map(shared.T56, unpacked_data[2:8])),\n",
    "    ''.join(map(shared.T56, unpacked_data[8:14])),\n",
    "    shared.CO59[tuple(unpacked_data[14:16])],\n",
    ")"
   ]
  },
  {
   "cell_type": "code",
   "execution_count": 11,
   "metadata": {},
   "outputs": [],
   "source": [
    "class ETL2Record:\n",
    "    def __init__(\n",
    "        self,\n",
    "        index: int, # the Serial Index in the record\n",
    "        source: str, # the source material that the record has been scanned from\n",
    "        character_type: str, # enum type: 'KANJI', 'EIJI', 'HRKANA', 'KTKANA', 'KIGO', 'SUUJI'\n",
    "        font: str, # e.g. \"('MINCHO', 'GOTHIC')\"\n",
    "        unicode_char: str, # e.g. あ\n",
    "        image: bytes, # PNG encoded image\n",
    "    ):\n",
    "        self.index = index\n",
    "        self.source = source\n",
    "        self.character_type = character_type\n",
    "        self.font = font\n",
    "        self.unicode_char = unicode_char\n",
    "        self.image = image\n",
    "\n",
    "    def __repr__(self):\n",
    "        return repr(self.__dict__)"
   ]
  },
  {
   "cell_type": "markdown",
   "metadata": {},
   "source": [
    "# All the images are 6-bit depth 60x60 pixels images"
   ]
  },
  {
   "cell_type": "code",
   "execution_count": 12,
   "metadata": {},
   "outputs": [
    {
     "data": {
      "text/plain": [
       "<matplotlib.colorbar.Colorbar at 0x1f56989e688>"
      ]
     },
     "execution_count": 12,
     "metadata": {},
     "output_type": "execute_result"
    },
    {
     "data": {
      "image/png": "[encoded data removed]",
      "text/plain": [
       "<Figure size 432x288 with 2 Axes>"
      ]
     },
     "metadata": {
      "needs_background": "light"
     },
     "output_type": "display_data"
    }
   ],
   "source": [
    "pil_image = Image.frombytes('F', (IMG_WIDTH, IMG_HEIGHT), record[16], 'bit', 6)\n",
    "\n",
    "np_img = np.array(pil_image)\n",
    "\n",
    "plt.imshow(np_img)\n",
    "plt.colorbar()"
   ]
  },
  {
   "cell_type": "markdown",
   "metadata": {},
   "source": [
    "# Convert image to grayscale `[0-255]` range"
   ]
  },
  {
   "cell_type": "code",
   "execution_count": 13,
   "metadata": {},
   "outputs": [
    {
     "data": {
      "text/plain": [
       "<matplotlib.colorbar.Colorbar at 0x1f5699b6488>"
      ]
     },
     "execution_count": 13,
     "metadata": {},
     "output_type": "execute_result"
    },
    {
     "data": {
      "image/png": "[encoded data removed]",
      "text/plain": [
       "<Figure size 432x288 with 2 Axes>"
      ]
     },
     "metadata": {
      "needs_background": "light"
     },
     "output_type": "display_data"
    }
   ],
   "source": [
    "pil_image = pil_image.convert('L')\n",
    "np_img = np.array(pil_image)\n",
    "\n",
    "plt.imshow(np_img)\n",
    "plt.colorbar()"
   ]
  },
  {
   "cell_type": "code",
   "execution_count": 15,
   "metadata": {},
   "outputs": [],
   "source": [
    "buffer = io.BytesIO()\n",
    "pil_image.save(buffer, format='PNG')\n",
    "png_encoded_image = buffer.getvalue()"
   ]
  },
  {
   "cell_type": "code",
   "execution_count": 16,
   "metadata": {},
   "outputs": [
    {
     "data": {
      "text/plain": [
       "{'index': 1, 'source': 'A', 'character_type': 'KANJI ', 'font': 'MINCHO', 'unicode_char': '上', 'image': b'\\x89PNG\\r\\n\\x1a\\n\\x00\\x00\\x00\\rIHDR\\x00\\x00\\x00<\\x00\\x00\\x00<\\x08\\x00\\x00\\x00\\x00\\x1f\\x97\\x86\\xae\\x00\\x00\\x02\\x12IDATx\\x9c\\xed\\x95mk\\xd4@\\x10\\xc7\\xe7i7\\xc9\\xb5\\x9cT\\xad-\\xf5\\x01\\xbf\\xffG\\x12\\n\\x15\\x04\\xc1*\"w\\xd7\\\\\\xb2\\xb33\\xbe\\xf0\\xae\\x90\\xd6N\\x8f\\x08\\xbe\\xbay\\x13\\x92\\xff\\xfc\\xb2;\\xff\\x9d\\xdd\\x058\\xc61\\xfe%0s\\xac\\x07Z\\xfbv\\xa9\\xb7\\xb7\\xf5\\xe9\\x04zZ\\xe2K\\x1f\\xec\\xf2c\\x90\\x11H@\\xc646i\\x16\\x9cJr\\x17\\xd2Y0.2e\\xb8\\x99W\\xf38\\x92\\xe0j\\xfdtB\\x04\\xd7\\r\\x16\\xdf\\x06,H\\xa0)\\xbb\\x07\\x15\\xc7n\\x03\\x80\\x86z$\\x1ale\\xf6\\xc8:\\x92\\xfa\\xfd\\xdb_z1\\xaa\\xd9=c\\xbf\\x7fi\\xce\\x9b\\xd5\\xadO\\x13\"\\xb8\\x18\\x15\\xdb\\xe7\\xbd<\\xb3%|\\x9b&\\x84\\xed\\xc9\\xb6\\xff9v\\xb2%|\\x7fz\\xf8\\xc8\\x89\\xd4\\x1bu\\x15\\xc2\\xf6\\xb5e4\\xbc\\xba\\x9e\\xf4[8\\xed\\x02\\xdd\\x07\\x04e2\\xd80\\n\\x02M]\\x8b`+\\t\\xd7\\xc9\\\\\\x13a\\x83X\\xb8\\xde[\\xf0<\\x8c\\xe3\\x92\\xf1\\x93W\\x00@\\x14\\xea\\x12~?\\x1cv.\\xfd\\xaa:\\x00\\x80\\xfb\\x08\\x8f\\xdb<r\\x1b[_\\x90\\x07\\ta\\xef\\xba\\x0fc\\xa4G\\xb0\\x14\\x83\\x93\\xb9p\\x11\\xa2p?\\x87\\xd3.&\\xe1\\xc1\\x1d\\xefW\\x9f\\xbf\\x9f\\x91\\x12\\xe7\\x08\\x0e\\xd7y`,sa8E\\x98\\xbdT\\xa0\\n\\xc1}\\xf1\\xcc\\x19\\xe6\\xc8\\xf3\\xddV\\x07\\x8b\\xf4\\x10N\\xa6\\xc1e\\x13\\x1bF\\x9a\\xa4\\x99~\\xea^\\xe9\\xf0\\xf3 \\x18QhZs{\\xde\\xb4\\xdd\\xf5\\x8f\\xc70\\xa2\\x13\\xb0::\\xa2\\x91;a\\xa2j@\\x7f\\xaaFH\\x05\\xf2\\x19%/W\\xeb\\xe1\\x01,\\xa7I5\\xe7\\xe5\\xfa.yf\\xef\\xb4oKn\\x0b\\xb6oX\\xbb\\x1e[k\\x9b\\r\\xd2p\\xc2\\x15\\xf1\\xe2\\xcb\\xce\\xc6\\xdd\\x89&\\x17/:B!.ZMx\\xb5P\\x94\\n=&2\\xf3d*J\\\\\\xfa\\x04\\xb5\\xc1v;|\\x1e\\xa6#g\\x18H\\xc0A\\xc1\\xb7T\\x1b\\xab\\x9a\\x0b\\xca@\\xa5\\x97\\xb4A73r1\\xcd`C\\xd5\\x07\\xd3\\xf6l\\x0c8V\\xe0\\xc2\\xad\\xd1\\xb8\\xa2\\xbb\\xb4\\xe1\\xbe x*#f\\xdaV1\\x94\\xca\\x9eN\\xfc\\xd7\\xbdM\\xbbg\\xf3n9\\xf6_Y\\xd5\\xe2\\xbe8\\xc61\\xfec\\xfc\\x06\\xf1\\x1f\\xe9\\xdc\\xe8\\xca\\xeer\\x00\\x00\\x00\\x00IEND\\xaeB`\\x82'}"
      ]
     },
     "execution_count": 16,
     "metadata": {},
     "output_type": "execute_result"
    }
   ],
   "source": [
    "pil_image = Image.frombytes('F', (IMG_WIDTH, IMG_HEIGHT), record[16], 'bit', 6)\n",
    "pil_image = pil_image.convert('L')\n",
    "\n",
    "buffer = io.BytesIO()\n",
    "pil_image.save(buffer, format='PNG')\n",
    "png_encoded_image = buffer.getvalue()\n",
    "\n",
    "etl2_record = ETL2Record(\n",
    "    index=record[0],\n",
    "    source=shared.T56(record[1]),\n",
    "    character_type=''.join(map(shared.T56, record[2:8])),\n",
    "    font=''.join(map(shared.T56, record[8:14])),\n",
    "    unicode_char=shared.CO59[tuple(record[14:16])],\n",
    "    image=png_encoded_image,\n",
    ")\n",
    "\n",
    "etl2_record"
   ]
  },
  {
   "cell_type": "markdown",
   "metadata": {},
   "source": [
    "# That's all for inspecting a single record in the dataset."
   ]
  },
  {
   "cell_type": "markdown",
   "metadata": {},
   "source": [
    "`XFormat` is my custom data serialization format. I created this format because I don't want to use `JSON` or `TFRecord` (`protobuf`) for various limitations."
   ]
  },
  {
   "cell_type": "code",
   "execution_count": 17,
   "metadata": {},
   "outputs": [
    {
     "name": "stderr",
     "output_type": "stream",
     "text": [
      "ETL2/ETL2_5 - 57600: 100%|████████████████████████████████████████████████████████████| 5/5 [01:33<00:00, 18.76s/it]\n"
     ]
    }
   ],
   "source": [
    "records_metadata = []\n",
    "etl2_serialized_dataset_filepath = f'etl2{shared.XFormat.EXTENSION}'\n",
    "\n",
    "if os.path.exists(etl2_serialized_dataset_filepath):\n",
    "    raise Exception(etl2_serialized_dataset_filepath + ' is already existed!')\n",
    "\n",
    "with open(etl2_serialized_dataset_filepath, mode='wb') as out_stream:\n",
    "    pbar = tqdm(part_filepaths)\n",
    "    for filename in pbar:\n",
    "\n",
    "        infile = bitstring.ConstBitStream(filename=filename)\n",
    "\n",
    "        while True:\n",
    "            try:\n",
    "                unpacked_data = infile.readlist(bitstring_unpack_str)\n",
    "            except:\n",
    "                # TODO properly check for end of file\n",
    "                # print(unpacked_data)\n",
    "                # traceback.print_exc()\n",
    "                break\n",
    "\n",
    "            pil_image = Image.frombytes('F', (IMG_WIDTH, IMG_HEIGHT), unpacked_data[16], 'bit', 6)\n",
    "            pil_image = pil_image.convert('L')\n",
    "\n",
    "            buffer = io.BytesIO()\n",
    "            pil_image.save(buffer, format='PNG')\n",
    "            png_encoded_image = buffer.getvalue()\n",
    "\n",
    "            etl2_record = ETL2Record(\n",
    "                index=unpacked_data[0],\n",
    "                source=shared.T56(unpacked_data[1]),\n",
    "                character_type=''.join(map(shared.T56, unpacked_data[2:8])),\n",
    "                font=''.join(map(shared.T56, unpacked_data[8:14])),\n",
    "                unicode_char=shared.CO59[tuple(unpacked_data[14:16])],\n",
    "                image=png_encoded_image,\n",
    "            )\n",
    "\n",
    "            record_datatype, serialized_record = shared.XFormat.serialize_obj(etl2_record.__dict__)\n",
    "            record_byte_count = len(serialized_record)\n",
    "            record_seek_start = out_stream.tell()\n",
    "\n",
    "            out_stream.write(record_datatype)\n",
    "            out_stream.write(shared.XFormat.serialize_int(record_byte_count))\n",
    "            out_stream.write(serialized_record)\n",
    "\n",
    "            record_seek_end = out_stream.tell()\n",
    "            \n",
    "            record_metadata = {\n",
    "                'index': etl2_record.index,\n",
    "                'source': etl2_record.source,\n",
    "                'character_type': etl2_record.character_type,\n",
    "                'font': etl2_record.font,\n",
    "                'unicode_char': etl2_record.unicode_char,\n",
    "                'seek_start': record_seek_start,\n",
    "                'seek_end': record_seek_end,\n",
    "            }\n",
    "            \n",
    "            records_metadata.append(record_metadata)\n",
    "            \n",
    "            pbar.set_description(f'{filename} - {etl2_record.index}')"
   ]
  },
  {
   "cell_type": "code",
   "execution_count": 18,
   "metadata": {},
   "outputs": [],
   "source": [
    "metadata_filepath = 'etl2-metadata.json'\n",
    "if os.path.exists(metadata_filepath):\n",
    "    raise Exception(metadata_filepath + 'is already existed!')\n",
    "\n",
    "with open(metadata_filepath, mode='w', encoding='utf-8') as out_stream:\n",
    "    json.dump(records_metadata, out_stream, ensure_ascii=False, indent='\\t')"
   ]
  }
 ],
 "metadata": {
  "kernelspec": {
   "display_name": "Python 3",
   "language": "python",
   "name": "python3"
  },
  "language_info": {
   "codemirror_mode": {
    "name": "ipython",
    "version": 3
   },
   "file_extension": ".py",
   "mimetype": "text/x-python",
   "name": "python",
   "nbconvert_exporter": "python",
   "pygments_lexer": "ipython3"
  }
 },
 "nbformat": 4,
 "nbformat_minor": 2
}
