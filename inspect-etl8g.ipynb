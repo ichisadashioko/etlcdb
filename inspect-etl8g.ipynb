{
	"cells": [
		{
			"cell_type": "code",
			"execution_count": null,
			"metadata": {},
			"outputs": [],
			"source": [
				"import os\n",
				"import time\n",
				"import math\n",
				"import re\n",
				"import struct\n",
				"import traceback\n",
				"import codecs\n",
				"\n",
				"import bitstring\n",
				"\n",
				"import numpy as np\n",
				"import matplotlib.pyplot as plt\n",
				"import cv2\n",
				"\n",
				"from PIL import Image\n",
				"import IPython.display as display"
			]
		},
		{
			"cell_type": "code",
			"execution_count": null,
			"metadata": {},
			"outputs": [],
			"source": [
				"os.listdir('.')"
			]
		},
		{
			"cell_type": "code",
			"execution_count": null,
			"metadata": {},
			"outputs": [],
			"source": [
				"file_list = [\n",
				"    'ETL8G_01',\n",
				"    'ETL8G_02',\n",
				"    'ETL8G_03',\n",
				"    'ETL8G_04',\n",
				"    'ETL8G_05',\n",
				"    'ETL8G_06',\n",
				"    'ETL8G_07',\n",
				"    'ETL8G_08',\n",
				"    'ETL8G_09',\n",
				"    'ETL8G_10',\n",
				"    'ETL8G_11',\n",
				"    'ETL8G_12',\n",
				"    'ETL8G_13',\n",
				"    'ETL8G_14',\n",
				"    'ETL8G_15',\n",
				"    'ETL8G_16',\n",
				"    'ETL8G_17',\n",
				"    'ETL8G_18',\n",
				"    'ETL8G_19',\n",
				"    'ETL8G_20',\n",
				"    'ETL8G_21',\n",
				"    'ETL8G_22',\n",
				"    'ETL8G_23',\n",
				"    'ETL8G_24',\n",
				"    'ETL8G_25',\n",
				"    'ETL8G_26',\n",
				"    'ETL8G_27',\n",
				"    'ETL8G_28',\n",
				"    'ETL8G_29',\n",
				"    'ETL8G_30',\n",
				"    'ETL8G_31',\n",
				"    'ETL8G_32',\n",
				"    'ETL8G_33',\n",
				"]"
			]
		},
		{
			"cell_type": "code",
			"execution_count": null,
			"metadata": {},
			"outputs": [],
			"source": [
				"filename = file_list[0]\n",
				"print(filename)\n",
				"file_stream = bitstring.ConstBitStream(filename=filename)"
			]
		},
		{
			"cell_type": "code",
			"execution_count": null,
			"metadata": {},
			"outputs": [],
			"source": [
				"record = file_stream.readlist(','.join([\n",
				"    'int:16', # Serial Sheet Number - [0]\n",
				"    'uint:16', # JIS Character Code (JIS X 0208) - [1]\n",
				"    '8*uint:8', # JIS Typical Reading (e.g. 'AI.MEDER') - [2:10]\n",
				"    'int:32', # Serial Data Number - [10]\n",
				"    '4*int:8', # - [11:15]\n",
				"    '4*uint:16', # - [15:19]\n",
				"    '2*int:8', # x and y - [19:21]\n",
				"    'pad:240',\n",
				"    'bytes:8128', # 16-graylevel (4-bit) image of 128 x 127 = 16256 pixels\n",
				"    'pad:88',\n",
				"]))"
			]
		},
		{
			"cell_type": "code",
			"execution_count": null,
			"metadata": {},
			"outputs": [],
			"source": [
				"print(type(record), len(record))\n",
				"for idx, v in enumerate(record[:-1]):\n",
				"    print(f'{idx} - {v}')"
			]
		},
		{
			"cell_type": "code",
			"execution_count": null,
			"metadata": {},
			"outputs": [],
			"source": [
				"record_dict = {\n",
				"    'JIS_CODE': record[1],\n",
				"    'image_data': record[-1]\n",
				"}"
			]
		},
		{
			"cell_type": "code",
			"execution_count": null,
			"metadata": {},
			"outputs": [],
			"source": [
				"hex(record_dict['JIS_CODE'])"
			]
		},
		{
			"cell_type": "code",
			"execution_count": null,
			"metadata": {},
			"outputs": [],
			"source": [
				"width = 128\n",
				"height = 127\n",
				"img = np.array(Image.frombytes('F', (width, height), record_dict['image_data'], 'bit', 4))\n",
				"plt.imshow(img)\n",
				"plt.colorbar()"
			]
		},
		{
			"cell_type": "code",
			"execution_count": null,
			"metadata": {},
			"outputs": [],
			"source": [
				"total_samples = 0\n",
				"record_count = {}\n",
				"\n",
				"for filename in file_list:\n",
				"    file_stream = bitstring.ConstBitStream(filename=filename)\n",
				"\n",
				"    while True:\n",
				"        try:\n",
				"            record = file_stream.readlist(','.join([\n",
				"                'int:16', # Serial Sheet Number - [0]\n",
				"                'uint:16', # JIS Character Code (JIS X 0208) - [1]\n",
				"                '8*uint:8', # JIS Typical Reading (e.g. 'AI.MEDER') - [2:10]\n",
				"                'int:32', # Serial Data Number - [10]\n",
				"                '4*int:8', # - [11:15]\n",
				"                '4*uint:16', # - [15:19]\n",
				"                '2*int:8', # x and y - [19:21]\n",
				"                'pad:240',\n",
				"                'bytes:8128', # 16-graylevel (4-bit) image of 128 x 127 = 16256 pixels\n",
				"                'pad:88',\n",
				"            ]))\n",
				"        except:\n",
				"            break\n",
				"        \n",
				"        total_samples += 1\n",
				"        record_dict = {\n",
				"            'JIS_CODE': record[1],\n",
				"            'image_data': record[-1],\n",
				"        }\n",
				"        \n",
				"        name = hex(record_dict['JIS_CODE'])\n",
				"        if name in record_count.keys():\n",
				"            record_count[name] += 1\n",
				"        else:\n",
				"            record_count[name] = 1"
			]
		},
		{
			"cell_type": "code",
			"execution_count": null,
			"metadata": {},
			"outputs": [],
			"source": [
				"total_samples"
			]
		},
		{
			"cell_type": "code",
			"execution_count": null,
			"metadata": {},
			"outputs": [],
			"source": [
				"len(record_count.keys())"
			]
		},
		{
			"cell_type": "code",
			"execution_count": null,
			"metadata": {},
			"outputs": [],
			"source": [
				"record_count"
			]
		}
	],
	"metadata": {
		"kernelspec": {
			"display_name": "Python 3",
			"language": "python",
			"name": "python3"
		},
		"language_info": {
			"codemirror_mode": {
				"name": "ipython",
				"version": 3
			},
			"file_extension": ".py",
			"mimetype": "text/x-python",
			"name": "python",
			"nbconvert_exporter": "python",
			"pygments_lexer": "ipython3"
		}
	},
	"nbformat": 4,
	"nbformat_minor": 2
}
