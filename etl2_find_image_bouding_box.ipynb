{
	"cells": [
		{
			"cell_type": "code",
			"execution_count": 1,
			"metadata": {},
			"outputs": [],
			"source": [
				"import os\n",
				"import io\n",
				"import tarfile\n",
				"import json\n",
				"\n",
				"from urllib.request import urlretrieve"
			]
		},
		{
			"cell_type": "code",
			"execution_count": 2,
			"metadata": {},
			"outputs": [],
			"source": [
				"from tqdm import tqdm\n",
				"import PIL\n",
				"import PIL.Image\n",
				"import numpy as np\n",
				"import matplotlib.pyplot as plt\n",
				"import pandas as pd"
			]
		},
		{
			"cell_type": "code",
			"execution_count": 3,
			"metadata": {},
			"outputs": [],
			"source": [
				"repacked_etl9b_archive_dl_url = 'https://github.com/ichisadashioko/etlcdb/releases/download/v0.0.5/repacked_etl9b.tar.gz'\n",
				"repacked_etl9b_archive_fpath = os.path.basename(repacked_etl9b_archive_dl_url)"
			]
		},
		{
			"cell_type": "code",
			"execution_count": 4,
			"metadata": {
				"scrolled": false
			},
			"outputs": [],
			"source": [
				"def download_reporthook(block_number, read_size, total_file_size):\n",
				"#     print(block_number, read_size, total_file_size)\n",
				"    bytes_downloaded = block_number * read_size\n",
				"    print(repr(bytes_downloaded) + '/' + repr(total_file_size), end='\\r')\n",
				"\n",
				"if not os.path.exists(repacked_etl9b_archive_fpath):\n",
				"    print('Downloading ' + repacked_etl9b_archive_fpath)\n",
				"    print('from ' + repacked_etl9b_archive_dl_url)\n",
				"\n",
				"    urlretrieve(\n",
				"        url=repacked_etl9b_archive_dl_url,\n",
				"        filename=repacked_etl9b_archive_fpath,\n",
				"        reporthook=download_reporthook,\n",
				"    )"
			]
		},
		{
			"cell_type": "code",
			"execution_count": 5,
			"metadata": {},
			"outputs": [],
			"source": [
				"extract_dirname = 'repacked_etl9b'\n",
				"\n",
				"if not os.path.exists(extract_dirname):\n",
				"    os.makedirs(extract_dirname)\n",
				"\n",
				"packed_images_fpath = os.path.join(extract_dirname, 'images.bin')\n",
				"metadata_fpath = os.path.join(extract_dirname, 'metadata.tsv')\n",
				"\n",
				"tar_ref = tarfile.open(repacked_etl9b_archive_fpath, 'r:gz')\n",
				"\n",
				"if not os.path.exists(packed_images_fpath):\n",
				"    print('inflating ' + packed_images_fpath)\n",
				"    entry_ref = tar_ref.getmember('repacked_etl9b/images.bin')\n",
				"    open(packed_images_fpath, mode='wb').write(tar_ref.extractfile(entry_ref).read())\n",
				"\n",
				"if not os.path.exists(metadata_fpath):\n",
				"    print('inflating ' + metadata_fpath)\n",
				"    entry_ref = tar_ref.getmember('repacked_etl9b/metadata.tsv')\n",
				"    open(metadata_fpath, mode='wb').write(tar_ref.extractfile(entry_ref).read())\n",
				"\n",
				"tar_ref.close()"
			]
		},
		{
			"cell_type": "markdown",
			"metadata": {},
			"source": [
				"# import metadata from the `tsv` file"
			]
		},
		{
			"cell_type": "code",
			"execution_count": 6,
			"metadata": {},
			"outputs": [
				{
					"data": {
						"text/plain": [
							"32071952"
						]
					},
					"execution_count": 6,
					"metadata": {},
					"output_type": "execute_result"
				}
			],
			"source": [
				"metadata_tsv_bs = open(metadata_fpath, mode='rb').read()\n",
				"len(metadata_tsv_bs)"
			]
		},
		{
			"cell_type": "code",
			"execution_count": 7,
			"metadata": {},
			"outputs": [
				{
					"data": {
						"text/plain": [
							"30851480"
						]
					},
					"execution_count": 7,
					"metadata": {},
					"output_type": "execute_result"
				}
			],
			"source": [
				"metadata_tsv_str = metadata_tsv_bs.decode('utf-8')\n",
				"len(metadata_tsv_str)"
			]
		},
		{
			"cell_type": "code",
			"execution_count": 8,
			"metadata": {},
			"outputs": [],
			"source": [
				"del metadata_tsv_bs"
			]
		},
		{
			"cell_type": "code",
			"execution_count": 9,
			"metadata": {},
			"outputs": [
				{
					"name": "stdout",
					"output_type": "stream",
					"text": [
						"610238\n"
					]
				}
			],
			"source": [
				"metadata_tsv_lines = metadata_tsv_str.split('\\n')\n",
				"print(len(metadata_tsv_lines))"
			]
		},
		{
			"cell_type": "code",
			"execution_count": 10,
			"metadata": {},
			"outputs": [],
			"source": [
				"del metadata_tsv_str"
			]
		},
		{
			"cell_type": "code",
			"execution_count": 11,
			"metadata": {},
			"outputs": [
				{
					"data": {
						"text/plain": [
							"'char\\tdataset_source\\twidth\\theight\\tseek_start\\tseek_end\\tsheet_number\\tjis_reading'"
						]
					},
					"execution_count": 11,
					"metadata": {},
					"output_type": "execute_result"
				}
			],
			"source": [
				"metadata_tsv_lines[0]"
			]
		},
		{
			"cell_type": "code",
			"execution_count": 12,
			"metadata": {},
			"outputs": [
				{
					"data": {
						"text/plain": [
							"'あ\\tETL9B/ETL9B_1\\t64\\t63\\t0\\t266\\t1\\tA.HI'"
						]
					},
					"execution_count": 12,
					"metadata": {},
					"output_type": "execute_result"
				}
			],
			"source": [
				"metadata_tsv_lines[1]"
			]
		},
		{
			"cell_type": "code",
			"execution_count": 13,
			"metadata": {},
			"outputs": [
				{
					"data": {
						"text/plain": [
							"8"
						]
					},
					"execution_count": 13,
					"metadata": {},
					"output_type": "execute_result"
				}
			],
			"source": [
				"header = metadata_tsv_lines[0].split('\\t')\n",
				"num_cols = len(header)\n",
				"num_cols"
			]
		},
		{
			"cell_type": "code",
			"execution_count": 14,
			"metadata": {},
			"outputs": [
				{
					"data": {
						"text/plain": [
							"['char',\n",
							" 'dataset_source',\n",
							" 'width',\n",
							" 'height',\n",
							" 'seek_start',\n",
							" 'seek_end',\n",
							" 'sheet_number',\n",
							" 'jis_reading']"
						]
					},
					"execution_count": 14,
					"metadata": {},
					"output_type": "execute_result"
				}
			],
			"source": [
				"header"
			]
		},
		{
			"cell_type": "code",
			"execution_count": 15,
			"metadata": {},
			"outputs": [
				{
					"data": {
						"text/plain": [
							"{'char': 0,\n",
							" 'dataset_source': 1,\n",
							" 'width': 2,\n",
							" 'height': 3,\n",
							" 'seek_start': 4,\n",
							" 'seek_end': 5,\n",
							" 'sheet_number': 6,\n",
							" 'jis_reading': 7}"
						]
					},
					"execution_count": 15,
					"metadata": {},
					"output_type": "execute_result"
				}
			],
			"source": [
				"ktoi = {header[i]: i for i in range(num_cols)}\n",
				"ktoi"
			]
		},
		{
			"cell_type": "code",
			"execution_count": 16,
			"metadata": {},
			"outputs": [
				{
					"name": "stderr",
					"output_type": "stream",
					"text": [
						"100%|██████████████████████████████████████████████████████████████████████| 610238/610238 [00:02<00:00, 304123.20it/s]\n"
					]
				}
			],
			"source": [
				"line_idx = 0\n",
				"\n",
				"record_list = []\n",
				"\n",
				"for tsv_line in tqdm(metadata_tsv_lines):\n",
				"    if line_idx == 0:\n",
				"        # skip header row\n",
				"        pass\n",
				"    elif len(tsv_line) == 0:\n",
				"        # empty row / last line\n",
				"        pass\n",
				"    else:\n",
				"        data_cells = tsv_line.split('\\t')\n",
				"        if len(data_cells) != num_cols:\n",
				"            print('unknown format at line ' + repr(line_idx))\n",
				"        else:\n",
				"            record = {\n",
				"                'char': data_cells[ktoi['char']],\n",
				"                'dataset_source': data_cells[ktoi['dataset_source']],\n",
				"                'width': int(data_cells[ktoi['width']]),\n",
				"                'height': int(data_cells[ktoi['height']]),\n",
				"                'seek_start': int(data_cells[ktoi['seek_start']]),\n",
				"                'seek_end': int(data_cells[ktoi['seek_end']]),\n",
				"            }\n",
				"            \n",
				"            record_list.append(record)\n",
				"\n",
				"    line_idx += 1"
			]
		},
		{
			"cell_type": "code",
			"execution_count": 17,
			"metadata": {},
			"outputs": [
				{
					"data": {
						"text/plain": [
							"610236"
						]
					},
					"execution_count": 17,
					"metadata": {},
					"output_type": "execute_result"
				}
			],
			"source": [
				"len(record_list)"
			]
		},
		{
			"cell_type": "code",
			"execution_count": 18,
			"metadata": {},
			"outputs": [
				{
					"data": {
						"text/plain": [
							"{'char': 'あ',\n",
							" 'dataset_source': 'ETL9B/ETL9B_1',\n",
							" 'width': 64,\n",
							" 'height': 63,\n",
							" 'seek_start': 0,\n",
							" 'seek_end': 266}"
						]
					},
					"execution_count": 18,
					"metadata": {},
					"output_type": "execute_result"
				}
			],
			"source": [
				"record_list[0]"
			]
		},
		{
			"cell_type": "code",
			"execution_count": 19,
			"metadata": {},
			"outputs": [],
			"source": [
				"del metadata_tsv_lines"
			]
		},
		{
			"cell_type": "code",
			"execution_count": 20,
			"metadata": {},
			"outputs": [
				{
					"data": {
						"text/plain": [
							"{'char': 'あ',\n",
							" 'dataset_source': 'ETL9B/ETL9B_1',\n",
							" 'width': 64,\n",
							" 'height': 63,\n",
							" 'seek_start': 0,\n",
							" 'seek_end': 266}"
						]
					},
					"execution_count": 20,
					"metadata": {},
					"output_type": "execute_result"
				}
			],
			"source": [
				"sample_record = record_list[0]\n",
				"sample_record"
			]
		},
		{
			"cell_type": "code",
			"execution_count": 21,
			"metadata": {},
			"outputs": [],
			"source": [
				"packed_images_infile = open(packed_images_fpath, 'rb')"
			]
		},
		{
			"cell_type": "code",
			"execution_count": 22,
			"metadata": {},
			"outputs": [
				{
					"data": {
						"text/plain": [
							"266"
						]
					},
					"execution_count": 22,
					"metadata": {},
					"output_type": "execute_result"
				}
			],
			"source": [
				"seek_start = sample_record['seek_start']\n",
				"seek_end = sample_record['seek_end']\n",
				"\n",
				"png_image_data_len = seek_end - seek_start\n",
				"\n",
				"packed_images_infile.seek(seek_start)\n",
				"\n",
				"png_image_data = packed_images_infile.read(png_image_data_len)\n",
				"len(png_image_data)"
			]
		},
		{
			"cell_type": "code",
			"execution_count": 23,
			"metadata": {},
			"outputs": [],
			"source": [
				"packed_images_infile.close()"
			]
		},
		{
			"cell_type": "code",
			"execution_count": 24,
			"metadata": {},
			"outputs": [
				{
					"data": {
						"image/png": "[encoded data removed]",
						"text/plain": [
							"<PIL.PngImagePlugin.PngImageFile image mode=1 size=64x63 at 0x261FAB88908>"
						]
					},
					"execution_count": 24,
					"metadata": {},
					"output_type": "execute_result"
				}
			],
			"source": [
				"buffer = io.BytesIO(png_image_data)\n",
				"pil_image = PIL.Image.open(buffer)\n",
				"pil_image"
			]
		},
		{
			"cell_type": "code",
			"execution_count": 25,
			"metadata": {},
			"outputs": [
				{
					"data": {
						"text/plain": [
							"(63, 64)"
						]
					},
					"execution_count": 25,
					"metadata": {},
					"output_type": "execute_result"
				}
			],
			"source": [
				"np_image = np.array(pil_image, dtype=np.uint8)\n",
				"np_image.shape"
			]
		},
		{
			"cell_type": "code",
			"execution_count": 26,
			"metadata": {},
			"outputs": [
				{
					"data": {
						"text/plain": [
							"(63, 64)"
						]
					},
					"execution_count": 26,
					"metadata": {},
					"output_type": "execute_result"
				}
			],
			"source": [
				"height, width = np_image.shape[:2]\n",
				"height, width"
			]
		},
		{
			"cell_type": "code",
			"execution_count": 27,
			"metadata": {},
			"outputs": [
				{
					"data": {
						"text/plain": [
							"0"
						]
					},
					"execution_count": 27,
					"metadata": {},
					"output_type": "execute_result"
				}
			],
			"source": [
				"np.min(np_image)"
			]
		},
		{
			"cell_type": "code",
			"execution_count": 28,
			"metadata": {},
			"outputs": [
				{
					"data": {
						"text/plain": [
							"1"
						]
					},
					"execution_count": 28,
					"metadata": {},
					"output_type": "execute_result"
				}
			],
			"source": [
				"np.max(np_image)"
			]
		},
		{
			"cell_type": "code",
			"execution_count": 29,
			"metadata": {},
			"outputs": [
				{
					"data": {
						"text/plain": [
							"<matplotlib.colorbar.Colorbar at 0x261fd4db508>"
						]
					},
					"execution_count": 29,
					"metadata": {},
					"output_type": "execute_result"
				},
				{
					"data": {
						"image/png": "[encoded data removed]",
						"text/plain": [
							"<Figure size 432x288 with 2 Axes>"
						]
					},
					"metadata": {
						"needs_background": "light"
					},
					"output_type": "display_data"
				}
			],
			"source": [
				"plt.imshow(np_image)\n",
				"plt.colorbar()"
			]
		},
		{
			"cell_type": "code",
			"execution_count": 30,
			"metadata": {},
			"outputs": [
				{
					"data": {
						"text/plain": [
							"(12, 50, 5, 58)"
						]
					},
					"execution_count": 30,
					"metadata": {},
					"output_type": "execute_result"
				}
			],
			"source": [
				"left_pos = 0\n",
				"right_pos = width - 1\n",
				"top_pos = 0\n",
				"bottom_pos = height - 1\n",
				"\n",
				"stop_flag = False\n",
				"\n",
				"while left_pos < width:\n",
				"    for tmp_y in range(height):\n",
				"        if np_image[tmp_y, left_pos] != 0:\n",
				"            stop_flag = True\n",
				"            \n",
				"    if stop_flag:\n",
				"        break\n",
				"\n",
				"    left_pos += 1\n",
				"\n",
				"stop_flag = False\n",
				"\n",
				"while right_pos >= 0:\n",
				"    for tmp_y in range(height):\n",
				"        if np_image[tmp_y, right_pos] != 0:\n",
				"            stop_flag = True\n",
				"    \n",
				"    if stop_flag:\n",
				"        break\n",
				"\n",
				"    right_pos -= 1\n",
				"\n",
				"stop_flag = False\n",
				"\n",
				"while top_pos < height:\n",
				"    for tmp_x in range(width):\n",
				"        if np_image[top_pos, tmp_x] != 0:\n",
				"            stop_flag = True\n",
				"\n",
				"    if stop_flag:\n",
				"        break\n",
				"\n",
				"    top_pos += 1\n",
				"\n",
				"stop_flag = False\n",
				"\n",
				"while bottom_pos >= 0:\n",
				"    for tmp_x in range(width):\n",
				"        if np_image[bottom_pos, tmp_x] != 0:\n",
				"            stop_flag = True\n",
				"\n",
				"    if stop_flag:\n",
				"        break\n",
				"\n",
				"    bottom_pos -= 1\n",
				"\n",
				"left_pos, right_pos, top_pos, bottom_pos"
			]
		},
		{
			"cell_type": "code",
			"execution_count": 31,
			"metadata": {},
			"outputs": [
				{
					"data": {
						"text/plain": [
							"<matplotlib.image.AxesImage at 0x261fd5b0308>"
						]
					},
					"execution_count": 31,
					"metadata": {},
					"output_type": "execute_result"
				},
				{
					"data": {
						"image/png": "[encoded data removed]",
						"text/plain": [
							"<Figure size 432x288 with 1 Axes>"
						]
					},
					"metadata": {
						"needs_background": "light"
					},
					"output_type": "display_data"
				}
			],
			"source": [
				"np_rgb_image = np.empty((height, width, 3), dtype=np.uint8)\n",
				"\n",
				"tmp_image = np_image * 255\n",
				"\n",
				"np_rgb_image[:,:,0] = tmp_image\n",
				"np_rgb_image[:,:,1] = tmp_image\n",
				"np_rgb_image[:,:,2] = tmp_image\n",
				"\n",
				"plt.imshow(np_rgb_image)"
			]
		},
		{
			"cell_type": "code",
			"execution_count": 32,
			"metadata": {},
			"outputs": [
				{
					"data": {
						"text/plain": [
							"array([0, 0, 0], dtype=uint8)"
						]
					},
					"execution_count": 32,
					"metadata": {},
					"output_type": "execute_result"
				}
			],
			"source": [
				"np_rgb_image[0,0]"
			]
		},
		{
			"cell_type": "code",
			"execution_count": 33,
			"metadata": {},
			"outputs": [
				{
					"data": {
						"text/plain": [
							"(3,)"
						]
					},
					"execution_count": 33,
					"metadata": {},
					"output_type": "execute_result"
				}
			],
			"source": [
				"np_rgb_image[0,0].shape"
			]
		},
		{
			"cell_type": "code",
			"execution_count": 34,
			"metadata": {},
			"outputs": [],
			"source": [
				"border_color = np.array([255, 0, 0], dtype=np.uint8)\n",
				"border_second_color = np.array([0, 255, 0], dtype=np.uint8)"
			]
		},
		{
			"cell_type": "code",
			"execution_count": 35,
			"metadata": {},
			"outputs": [],
			"source": [
				"zero_pixel = np.array([0, 0, 0], dtype=np.uint8)"
			]
		},
		{
			"cell_type": "code",
			"execution_count": 36,
			"metadata": {},
			"outputs": [
				{
					"data": {
						"text/plain": [
							"array([ True,  True,  True])"
						]
					},
					"execution_count": 36,
					"metadata": {},
					"output_type": "execute_result"
				}
			],
			"source": [
				"np_rgb_image[0,0] == zero_pixel"
			]
		},
		{
			"cell_type": "code",
			"execution_count": 37,
			"metadata": {},
			"outputs": [
				{
					"data": {
						"text/plain": [
							"True"
						]
					},
					"execution_count": 37,
					"metadata": {},
					"output_type": "execute_result"
				}
			],
			"source": [
				"np.all(_)"
			]
		},
		{
			"cell_type": "code",
			"execution_count": 38,
			"metadata": {},
			"outputs": [
				{
					"data": {
						"text/plain": [
							"<matplotlib.image.AxesImage at 0x261fd62f608>"
						]
					},
					"execution_count": 38,
					"metadata": {},
					"output_type": "execute_result"
				},
				{
					"data": {
						"image/png": "[encoded data removed]",
						"text/plain": [
							"<Figure size 432x288 with 1 Axes>"
						]
					},
					"metadata": {
						"needs_background": "light"
					},
					"output_type": "display_data"
				}
			],
			"source": [
				"# draw the top line\n",
				"y = top_pos\n",
				"\n",
				"for x in range(left_pos, right_pos):\n",
				"    if np.all(np_rgb_image[y,x] == zero_pixel):\n",
				"        np_rgb_image[y,x] = border_color\n",
				"    else:\n",
				"        np_rgb_image[y,x] = border_second_color\n",
				"\n",
				"plt.imshow(np_rgb_image)"
			]
		},
		{
			"cell_type": "code",
			"execution_count": 39,
			"metadata": {},
			"outputs": [
				{
					"data": {
						"text/plain": [
							"<matplotlib.image.AxesImage at 0x261fd696fc8>"
						]
					},
					"execution_count": 39,
					"metadata": {},
					"output_type": "execute_result"
				},
				{
					"data": {
						"image/png": "[encoded data removed]",
						"text/plain": [
							"<Figure size 432x288 with 1 Axes>"
						]
					},
					"metadata": {
						"needs_background": "light"
					},
					"output_type": "display_data"
				}
			],
			"source": [
				"# draw the bottom line\n",
				"y = bottom_pos\n",
				"\n",
				"for x in range(left_pos, right_pos):\n",
				"    if np.all(np_rgb_image[y,x] == zero_pixel):\n",
				"        np_rgb_image[y,x] = border_color\n",
				"    else:\n",
				"        np_rgb_image[y,x] = border_second_color\n",
				"\n",
				"plt.imshow(np_rgb_image)"
			]
		},
		{
			"cell_type": "code",
			"execution_count": 40,
			"metadata": {},
			"outputs": [
				{
					"data": {
						"text/plain": [
							"<matplotlib.image.AxesImage at 0x261fd708848>"
						]
					},
					"execution_count": 40,
					"metadata": {},
					"output_type": "execute_result"
				},
				{
					"data": {
						"image/png": "[encoded data removed]",
						"text/plain": [
							"<Figure size 432x288 with 1 Axes>"
						]
					},
					"metadata": {
						"needs_background": "light"
					},
					"output_type": "display_data"
				}
			],
			"source": [
				"# draw the left line\n",
				"x = left_pos\n",
				"\n",
				"for y in range(top_pos, bottom_pos):\n",
				"# for y in range(top_pos + 1, bottom_pos - 1):\n",
				"    if np.all(np_rgb_image[y,x] == zero_pixel):\n",
				"        np_rgb_image[y,x] = border_color\n",
				"    else:\n",
				"        np_rgb_image[y,x] = border_second_color\n",
				"\n",
				"plt.imshow(np_rgb_image)"
			]
		},
		{
			"cell_type": "code",
			"execution_count": 41,
			"metadata": {},
			"outputs": [
				{
					"data": {
						"text/plain": [
							"<matplotlib.image.AxesImage at 0x261fd774dc8>"
						]
					},
					"execution_count": 41,
					"metadata": {},
					"output_type": "execute_result"
				},
				{
					"data": {
						"image/png": "[encoded data removed]",
						"text/plain": [
							"<Figure size 432x288 with 1 Axes>"
						]
					},
					"metadata": {
						"needs_background": "light"
					},
					"output_type": "display_data"
				}
			],
			"source": [
				"# draw the left line\n",
				"x = right_pos\n",
				"\n",
				"for y in range(top_pos, bottom_pos):\n",
				"# for y in range(top_pos + 1, bottom_pos - 1):\n",
				"    if np.all(np_rgb_image[y,x] == zero_pixel):\n",
				"        np_rgb_image[y,x] = border_color\n",
				"    else:\n",
				"        np_rgb_image[y,x] = border_second_color\n",
				"\n",
				"plt.imshow(np_rgb_image)"
			]
		},
		{
			"cell_type": "code",
			"execution_count": 42,
			"metadata": {
				"scrolled": true
			},
			"outputs": [
				{
					"name": "stdout",
					"output_type": "stream",
					"text": [
						"(53, 38)\n"
					]
				},
				{
					"data": {
						"text/plain": [
							"<matplotlib.colorbar.Colorbar at 0x261fd823a48>"
						]
					},
					"execution_count": 42,
					"metadata": {},
					"output_type": "execute_result"
				},
				{
					"data": {
						"image/png": "[encoded data removed]",
						"text/plain": [
							"<Figure size 432x288 with 2 Axes>"
						]
					},
					"metadata": {
						"needs_background": "light"
					},
					"output_type": "display_data"
				}
			],
			"source": [
				"cropped_image = np_image[top_pos:bottom_pos, left_pos:right_pos]\n",
				"print(cropped_image.shape)\n",
				"\n",
				"plt.imshow(cropped_image)\n",
				"plt.colorbar()"
			]
		},
		{
			"cell_type": "code",
			"execution_count": 43,
			"metadata": {},
			"outputs": [
				{
					"name": "stdout",
					"output_type": "stream",
					"text": [
						"(54, 39)\n"
					]
				},
				{
					"data": {
						"text/plain": [
							"<matplotlib.colorbar.Colorbar at 0x261fd879f88>"
						]
					},
					"execution_count": 43,
					"metadata": {},
					"output_type": "execute_result"
				},
				{
					"data": {
						"image/png": "[encoded data removed]",
						"text/plain": [
							"<Figure size 432x288 with 2 Axes>"
						]
					},
					"metadata": {
						"needs_background": "light"
					},
					"output_type": "display_data"
				}
			],
			"source": [
				"cropped_image = np_image[top_pos:bottom_pos+1, left_pos:right_pos+1]\n",
				"print(cropped_image.shape)\n",
				"\n",
				"plt.imshow(cropped_image)\n",
				"plt.colorbar()"
			]
		},
		{
			"cell_type": "code",
			"execution_count": 44,
			"metadata": {},
			"outputs": [],
			"source": [
				"output_fpath = 'repacked_etl2_with_bounding_box_data.json'\n",
				"\n",
				"if os.path.exists(output_fpath):\n",
				"    record_list = json.loads(open(output_fpath, mode='rb').read().decode('utf-8'))\n",
				"else:\n",
				"    packed_images_infile = open(packed_images_fpath, 'rb')\n",
				"\n",
				"    for record in tqdm(record_list):\n",
				"        seek_start = record['seek_start']\n",
				"        seek_end = record['seek_end']\n",
				"\n",
				"        png_image_data_len = seek_end - seek_start\n",
				"\n",
				"        packed_images_infile.seek(seek_start)\n",
				"\n",
				"        png_image_data = packed_images_infile.read(png_image_data_len)\n",
				"\n",
				"        buffer = io.BytesIO(png_image_data)\n",
				"        pil_image = PIL.Image.open(buffer)\n",
				"        np_image = np.array(pil_image, dtype=np.uint8)\n",
				"\n",
				"        height, width = np_image.shape[:2]\n",
				"\n",
				"        left_pos = 0\n",
				"        right_pos = width - 1\n",
				"        top_pos = 0\n",
				"        bottom_pos = height - 1\n",
				"\n",
				"        stop_flag = False\n",
				"\n",
				"        while left_pos < width:\n",
				"            for tmp_y in range(height):\n",
				"                if np_image[tmp_y, left_pos] != 0:\n",
				"                    stop_flag = True\n",
				"\n",
				"            if stop_flag:\n",
				"                break\n",
				"\n",
				"            left_pos += 1\n",
				"\n",
				"        stop_flag = False\n",
				"\n",
				"        while right_pos >= 0:\n",
				"            for tmp_y in range(height):\n",
				"                if np_image[tmp_y, right_pos] != 0:\n",
				"                    stop_flag = True\n",
				"\n",
				"            if stop_flag:\n",
				"                break\n",
				"\n",
				"            right_pos -= 1\n",
				"\n",
				"        stop_flag = False\n",
				"\n",
				"        while top_pos < height:\n",
				"            for tmp_x in range(width):\n",
				"                if np_image[top_pos, tmp_x] != 0:\n",
				"                    stop_flag = True\n",
				"\n",
				"            if stop_flag:\n",
				"                break\n",
				"\n",
				"            top_pos += 1\n",
				"\n",
				"        stop_flag = False\n",
				"\n",
				"        while bottom_pos >= 0:\n",
				"            for tmp_x in range(width):\n",
				"                if np_image[bottom_pos, tmp_x] != 0:\n",
				"                    stop_flag = True\n",
				"\n",
				"            if stop_flag:\n",
				"                break\n",
				"\n",
				"            bottom_pos -= 1\n",
				"\n",
				"        record['left'] = left_pos\n",
				"        record['right'] = right_pos\n",
				"        record['top'] = top_pos\n",
				"        record['bottom'] = bottom_pos\n",
				"\n",
				"    packed_images_infile.close()\n",
				"\n",
				"    open(output_fpath, mode='wb').write(json.dumps(record_list, ensure_ascii=False).encode('utf-8'))"
			]
		},
		{
			"cell_type": "code",
			"execution_count": 45,
			"metadata": {},
			"outputs": [
				{
					"data": {
						"text/plain": [
							"[{'char': 'あ',\n",
							"  'dataset_source': 'ETL9B/ETL9B_1',\n",
							"  'width': 64,\n",
							"  'height': 63,\n",
							"  'seek_start': 0,\n",
							"  'seek_end': 266,\n",
							"  'left': 12,\n",
							"  'right': 50,\n",
							"  'top': 5,\n",
							"  'bottom': 58},\n",
							" {'char': 'い',\n",
							"  'dataset_source': 'ETL9B/ETL9B_1',\n",
							"  'width': 64,\n",
							"  'height': 63,\n",
							"  'seek_start': 266,\n",
							"  'seek_end': 426,\n",
							"  'left': 0,\n",
							"  'right': 62,\n",
							"  'top': 11,\n",
							"  'bottom': 51},\n",
							" {'char': 'う',\n",
							"  'dataset_source': 'ETL9B/ETL9B_1',\n",
							"  'width': 64,\n",
							"  'height': 63,\n",
							"  'seek_start': 426,\n",
							"  'seek_end': 638,\n",
							"  'left': 21,\n",
							"  'right': 42,\n",
							"  'top': 0,\n",
							"  'bottom': 62}]"
						]
					},
					"execution_count": 45,
					"metadata": {},
					"output_type": "execute_result"
				}
			],
			"source": [
				"record_list[:3]"
			]
		},
		{
			"cell_type": "code",
			"execution_count": 46,
			"metadata": {},
			"outputs": [
				{
					"data": {
						"text/plain": [
							"(610236, 4)"
						]
					},
					"execution_count": 46,
					"metadata": {},
					"output_type": "execute_result"
				}
			],
			"source": [
				"bounding_box_data_list = []\n",
				"\n",
				"for record in record_list:\n",
				"    bounding_box_data_list.append([\n",
				"        record['left'],\n",
				"        record['right'],\n",
				"        record['top'],\n",
				"        record['bottom'],\n",
				"    ])\n",
				"    \n",
				"bounding_box_np_data = np.array(bounding_box_data_list)\n",
				"bounding_box_np_data.shape"
			]
		},
		{
			"cell_type": "code",
			"execution_count": 47,
			"metadata": {},
			"outputs": [],
			"source": [
				"bounding_box_df = pd.DataFrame(\n",
				"    data=bounding_box_np_data,\n",
				"    columns=['left', 'right', 'top', 'bottom'],\n",
				")"
			]
		},
		{
			"cell_type": "code",
			"execution_count": 48,
			"metadata": {},
			"outputs": [
				{
					"data": {
						"text/html": [
							"<div>\n",
							"<style scoped>\n",
							"    .dataframe tbody tr th:only-of-type {\n",
							"        vertical-align: middle;\n",
							"    }\n",
							"\n",
							"    .dataframe tbody tr th {\n",
							"        vertical-align: top;\n",
							"    }\n",
							"\n",
							"    .dataframe thead th {\n",
							"        text-align: right;\n",
							"    }\n",
							"</style>\n",
							"<table border=\"1\" class=\"dataframe\">\n",
							"  <thead>\n",
							"    <tr style=\"text-align: right;\">\n",
							"      <th></th>\n",
							"      <th>left</th>\n",
							"      <th>right</th>\n",
							"      <th>top</th>\n",
							"      <th>bottom</th>\n",
							"    </tr>\n",
							"  </thead>\n",
							"  <tbody>\n",
							"    <tr>\n",
							"      <th>count</th>\n",
							"      <td>610236.000000</td>\n",
							"      <td>610236.000000</td>\n",
							"      <td>610236.000000</td>\n",
							"      <td>610236.000000</td>\n",
							"    </tr>\n",
							"    <tr>\n",
							"      <th>mean</th>\n",
							"      <td>5.423135</td>\n",
							"      <td>56.945542</td>\n",
							"      <td>1.677068</td>\n",
							"      <td>60.526270</td>\n",
							"    </tr>\n",
							"    <tr>\n",
							"      <th>std</th>\n",
							"      <td>4.176303</td>\n",
							"      <td>4.102514</td>\n",
							"      <td>2.697848</td>\n",
							"      <td>2.532128</td>\n",
							"    </tr>\n",
							"    <tr>\n",
							"      <th>min</th>\n",
							"      <td>0.000000</td>\n",
							"      <td>33.000000</td>\n",
							"      <td>0.000000</td>\n",
							"      <td>33.000000</td>\n",
							"    </tr>\n",
							"    <tr>\n",
							"      <th>25%</th>\n",
							"      <td>2.000000</td>\n",
							"      <td>54.000000</td>\n",
							"      <td>0.000000</td>\n",
							"      <td>60.000000</td>\n",
							"    </tr>\n",
							"    <tr>\n",
							"      <th>50%</th>\n",
							"      <td>5.000000</td>\n",
							"      <td>57.000000</td>\n",
							"      <td>0.000000</td>\n",
							"      <td>62.000000</td>\n",
							"    </tr>\n",
							"    <tr>\n",
							"      <th>75%</th>\n",
							"      <td>8.000000</td>\n",
							"      <td>61.000000</td>\n",
							"      <td>3.000000</td>\n",
							"      <td>62.000000</td>\n",
							"    </tr>\n",
							"    <tr>\n",
							"      <th>max</th>\n",
							"      <td>29.000000</td>\n",
							"      <td>62.000000</td>\n",
							"      <td>30.000000</td>\n",
							"      <td>62.000000</td>\n",
							"    </tr>\n",
							"  </tbody>\n",
							"</table>\n",
							"</div>"
						],
						"text/plain": [
							"                left          right            top         bottom\n",
							"count  610236.000000  610236.000000  610236.000000  610236.000000\n",
							"mean        5.423135      56.945542       1.677068      60.526270\n",
							"std         4.176303       4.102514       2.697848       2.532128\n",
							"min         0.000000      33.000000       0.000000      33.000000\n",
							"25%         2.000000      54.000000       0.000000      60.000000\n",
							"50%         5.000000      57.000000       0.000000      62.000000\n",
							"75%         8.000000      61.000000       3.000000      62.000000\n",
							"max        29.000000      62.000000      30.000000      62.000000"
						]
					},
					"execution_count": 48,
					"metadata": {},
					"output_type": "execute_result"
				}
			],
			"source": [
				"bounding_box_df.describe()"
			]
		},
		{
			"cell_type": "code",
			"execution_count": 49,
			"metadata": {},
			"outputs": [
				{
					"data": {
						"text/plain": [
							"0"
						]
					},
					"execution_count": 49,
					"metadata": {},
					"output_type": "execute_result"
				}
			],
			"source": [
				"bounding_box_df['left'].min()"
			]
		},
		{
			"cell_type": "markdown",
			"metadata": {},
			"source": [
				"examine some record with borders at the image's borders"
			]
		},
		{
			"cell_type": "code",
			"execution_count": 50,
			"metadata": {},
			"outputs": [
				{
					"data": {
						"text/plain": [
							"97859"
						]
					},
					"execution_count": 50,
					"metadata": {},
					"output_type": "execute_result"
				}
			],
			"source": [
				"record_with_left_0_list = []\n",
				"\n",
				"record_idx = 0\n",
				"\n",
				"for record in record_list:\n",
				"    if record['left'] == 0:\n",
				"        record_with_left_0_list.append(record_idx)\n",
				"    record_idx += 1\n",
				"len(record_with_left_0_list)"
			]
		},
		{
			"cell_type": "code",
			"execution_count": 51,
			"metadata": {},
			"outputs": [
				{
					"data": {
						"text/plain": [
							"[1, 78, 100, 115, 163]"
						]
					},
					"execution_count": 51,
					"metadata": {},
					"output_type": "execute_result"
				}
			],
			"source": [
				"record_with_left_0_list[:5]"
			]
		},
		{
			"cell_type": "code",
			"execution_count": 52,
			"metadata": {},
			"outputs": [],
			"source": [
				"def read_image_data_of_a_single_record(record: dict, packed_images_fpath: str):\n",
				"    seek_start = record['seek_start']\n",
				"    seek_end = record['seek_end']\n",
				"    data_size = seek_end - seek_start\n",
				"\n",
				"    infile = open(packed_images_fpath, mode='rb')\n",
				"    infile.seek(seek_start)\n",
				"    bs = infile.read(data_size)\n",
				"    infile.close()\n",
				"\n",
				"    buffer = io.BytesIO(bs)\n",
				"    pil_image = PIL.Image.open(buffer)\n",
				"    np_image = np.array(pil_image, dtype=np.uint8)\n",
				"\n",
				"    return np_image"
			]
		},
		{
			"cell_type": "code",
			"execution_count": 53,
			"metadata": {},
			"outputs": [
				{
					"data": {
						"text/plain": [
							"(63, 64)"
						]
					},
					"execution_count": 53,
					"metadata": {},
					"output_type": "execute_result"
				}
			],
			"source": [
				"record = record_list[1]\n",
				"np_image = read_image_data_of_a_single_record(record, packed_images_fpath)\n",
				"np_image.shape"
			]
		},
		{
			"cell_type": "code",
			"execution_count": 54,
			"metadata": {},
			"outputs": [
				{
					"data": {
						"text/plain": [
							"<matplotlib.image.AxesImage at 0x26190325708>"
						]
					},
					"execution_count": 54,
					"metadata": {},
					"output_type": "execute_result"
				},
				{
					"data": {
						"image/png": "[encoded data removed]",
						"text/plain": [
							"<Figure size 432x288 with 1 Axes>"
						]
					},
					"metadata": {
						"needs_background": "light"
					},
					"output_type": "display_data"
				}
			],
			"source": [
				"plt.imshow(np_image)"
			]
		},
		{
			"cell_type": "markdown",
			"metadata": {},
			"source": [
				"I think I will stop explore the data here. I will need to make another project to clean up those pixels by hand."
			]
		}
	],
	"metadata": {
		"kernelspec": {
			"display_name": "Python 3",
			"language": "python",
			"name": "python3"
		},
		"language_info": {
			"codemirror_mode": {
				"name": "ipython",
				"version": 3
			},
			"file_extension": ".py",
			"mimetype": "text/x-python",
			"name": "python",
			"nbconvert_exporter": "python",
			"pygments_lexer": "ipython3"
		}
	},
	"nbformat": 4,
	"nbformat_minor": 4
}
